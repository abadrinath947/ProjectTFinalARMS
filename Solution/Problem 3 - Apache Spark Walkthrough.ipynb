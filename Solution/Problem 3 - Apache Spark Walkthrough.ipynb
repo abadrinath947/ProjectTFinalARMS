{
 "cells": [
  {
   "cell_type": "markdown",
   "metadata": {},
   "source": [
    "# Problem 3 - Apache Spark Walkthrough\n",
    "\n",
    "In this problem, we'll be working with california housing data and using Spark to do parrallelized Linear Regression on some of its columns. The results aren't very accurate at all, but it's a good introduction on various functionalities that Spark has."
   ]
  },
  {
   "cell_type": "code",
   "execution_count": 1,
   "metadata": {
    "_cell_guid": "79c7e3d0-c299-4dcb-8224-4455121ee9b0",
    "_uuid": "d629ff2d2480ee46fbb7e2d37f6b5fab8052498a"
   },
   "outputs": [
    {
     "name": "stdout",
     "output_type": "stream",
     "text": [
      "Collecting pyspark\n",
      "  Downloading pyspark-3.0.1.tar.gz (204.2 MB)\n",
      "\u001b[K     |████████████████████████████████| 204.2 MB 27 kB/s s eta 0:00:01\n",
      "\u001b[?25hCollecting py4j==0.10.9\n",
      "  Downloading py4j-0.10.9-py2.py3-none-any.whl (198 kB)\n",
      "\u001b[K     |████████████████████████████████| 198 kB 43.6 MB/s eta 0:00:01\n",
      "\u001b[?25hBuilding wheels for collected packages: pyspark\n",
      "  Building wheel for pyspark (setup.py) ... \u001b[?25ldone\n",
      "\u001b[?25h  Created wheel for pyspark: filename=pyspark-3.0.1-py2.py3-none-any.whl size=204612244 sha256=d59e79b82af23155de9a99e36fdefe240043d92f78e9236279000a861fda6c5d\n",
      "  Stored in directory: /root/.cache/pip/wheels/5e/34/fa/b37b5cef503fc5148b478b2495043ba61b079120b7ff379f9b\n",
      "Successfully built pyspark\n",
      "Installing collected packages: py4j, pyspark\n",
      "Successfully installed py4j-0.10.9 pyspark-3.0.1\n",
      "\u001b[33mWARNING: You are using pip version 20.2.4; however, version 20.3 is available.\n",
      "You should consider upgrading via the '/opt/conda/bin/python3.7 -m pip install --upgrade pip' command.\u001b[0m\n"
     ]
    }
   ],
   "source": [
    "!pip install pyspark"
   ]
  },
  {
   "cell_type": "code",
   "execution_count": 2,
   "metadata": {},
   "outputs": [],
   "source": [
    "import os\n",
    "import pandas as pd\n",
    "import numpy as np\n",
    "\n",
    "from pyspark import SparkConf, SparkContext\n",
    "from pyspark.sql import SparkSession, SQLContext\n",
    "\n",
    "from pyspark.sql.types import *\n",
    "import pyspark.sql.functions as F\n",
    "from pyspark.sql.functions import udf, col\n",
    "\n",
    "from pyspark.ml.regression import LinearRegression\n",
    "from pyspark.mllib.evaluation import RegressionMetrics\n",
    "\n",
    "from pyspark.ml.tuning import ParamGridBuilder, CrossValidator, CrossValidatorModel\n",
    "from pyspark.ml.feature import VectorAssembler, StandardScaler\n",
    "from pyspark.ml.evaluation import RegressionEvaluator\n",
    "\n",
    "import matplotlib.pyplot as plt"
   ]
  },
  {
   "cell_type": "markdown",
   "metadata": {},
   "source": [
    "## Housing Data Set\n",
    "\n",
    "The California Housing data set appeared in a 1997 paper titled *Sparse Spatial Autoregressions*, written by Pace, R. Kelley and Ronald Barry and published in the Statistics and Probability Letters journal. The researchers built this data set by using the 1990 California census data.\n",
    "\n",
    "The data contains one row per census block group. A block group is the smallest geographical unit for which the U.S. Census Bureau publishes sample data (a block group typically has a population of 600 to 3,000 people). In this sample a block group on average includes 1425.5 individuals living in a geographically compact area.\n",
    "\n",
    "These spatial data contain 20,640 observations on housing prices with 9 economic variables:\n",
    "\n",
    "<p style=\"text-align: justify;\"></p>\n",
    "<pre><strong>Longitude:</strong>refers to the angular distance of a geographic place north or south of the earth’s equator for each block group\n",
    "<strong>Latitude :</strong>refers to the angular distance of a geographic place east or west of the earth’s equator for each block group\n",
    "<strong>Housing Median Age:</strong>is the median age of the people that belong to a block group. Note that the median is the value that lies at the midpoint of a frequency distribution of observed values\n",
    "<strong>Total Rooms:</strong>is the total number of rooms in the houses per block group\n",
    "<strong>Total Bedrooms:</strong>is the total number of bedrooms in the houses per block group\n",
    "<strong>Population:</strong>is the number of inhabitants of a block group\n",
    "<strong>Households:</strong>refers to units of houses and their occupants per block group\n",
    "<strong>Median Income:</strong>is used to register the median income of people that belong to a block group\n",
    "<strong>Median House Value:</strong>is the dependent variable and refers to the median house value per block group\n",
    "</pre>\n",
    "\n",
    "What's more, we also learn that all the block groups have zero entries for the independent and dependent variables have been excluded from the data.\n",
    "\n",
    "The Median house value is the dependent variable and will be assigned the role of the target variable in our ML model."
   ]
  },
  {
   "cell_type": "code",
   "execution_count": 3,
   "metadata": {},
   "outputs": [],
   "source": [
    "spark = SparkSession.builder.master(\"local[2]\").appName(\"Linear-Regression-California-Housing\").getOrCreate()\n",
    "path = '../input/hausing-data/cal_housing.data'\n",
    "\n",
    "schema = StructType([\n",
    "    StructField(\"long\", FloatType(), nullable=True),\n",
    "    StructField(\"lat\", FloatType(), nullable=True),\n",
    "    StructField(\"medage\", FloatType(), nullable=True),\n",
    "    StructField(\"totrooms\", FloatType(), nullable=True),\n",
    "    StructField(\"totbdrms\", FloatType(), nullable=True),\n",
    "    StructField(\"pop\", FloatType(), nullable=True),\n",
    "    StructField(\"houshlds\", FloatType(), nullable=True),\n",
    "    StructField(\"medinc\", FloatType(), nullable=True),\n",
    "    StructField(\"medhv\", FloatType(), nullable=True)]\n",
    ")\n",
    "\n",
    "housing_df = spark.read.csv(path=path, schema=schema).cache()"
   ]
  },
  {
   "cell_type": "markdown",
   "metadata": {},
   "source": [
    "# PART A: Basic Spark Commands"
   ]
  },
  {
   "cell_type": "markdown",
   "metadata": {},
   "source": [
    "## (a) Display the first five rows of the Spark dataframe\n"
   ]
  },
  {
   "cell_type": "code",
   "execution_count": 4,
   "metadata": {},
   "outputs": [
    {
     "name": "stdout",
     "output_type": "stream",
     "text": [
      "+-------+-----+------+--------+--------+------+--------+------+--------+\n",
      "|   long|  lat|medage|totrooms|totbdrms|   pop|houshlds|medinc|   medhv|\n",
      "+-------+-----+------+--------+--------+------+--------+------+--------+\n",
      "|-122.23|37.88|  41.0|   880.0|   129.0| 322.0|   126.0|8.3252|452600.0|\n",
      "|-122.22|37.86|  21.0|  7099.0|  1106.0|2401.0|  1138.0|8.3014|358500.0|\n",
      "|-122.24|37.85|  52.0|  1467.0|   190.0| 496.0|   177.0|7.2574|352100.0|\n",
      "|-122.25|37.85|  52.0|  1274.0|   235.0| 558.0|   219.0|5.6431|341300.0|\n",
      "|-122.25|37.85|  52.0|  1627.0|   280.0| 565.0|   259.0|3.8462|342200.0|\n",
      "+-------+-----+------+--------+--------+------+--------+------+--------+\n",
      "only showing top 5 rows\n",
      "\n"
     ]
    }
   ],
   "source": [
    "housing_df.show(5)"
   ]
  },
  {
   "cell_type": "markdown",
   "metadata": {},
   "source": [
    "## (b) Create a new 1x1 dataframe, result, which contains the average of the population column\n",
    "\n",
    "Your result should be around 1425"
   ]
  },
  {
   "cell_type": "code",
   "execution_count": 5,
   "metadata": {},
   "outputs": [
    {
     "name": "stdout",
     "output_type": "stream",
     "text": [
      "+------------------+\n",
      "|          avg(pop)|\n",
      "+------------------+\n",
      "|1425.4767441860465|\n",
      "+------------------+\n",
      "\n"
     ]
    }
   ],
   "source": [
    "result = housing_df.agg({'pop':'avg'})\n",
    "result.show(1)"
   ]
  },
  {
   "cell_type": "markdown",
   "metadata": {},
   "source": [
    "## (c) Save the pandas version of housing_df as pandas_housing_df\n",
    "\n",
    "Feel free to lookup documentation on how this is done"
   ]
  },
  {
   "cell_type": "code",
   "execution_count": 6,
   "metadata": {},
   "outputs": [],
   "source": [
    "pandas_housing_df = housing_df.toPandas()"
   ]
  },
  {
   "cell_type": "code",
   "execution_count": 7,
   "metadata": {},
   "outputs": [
    {
     "data": {
      "text/plain": [
       "Text(0.5, 1.0, 'Histogram of Median Ages in California Houses')"
      ]
     },
     "execution_count": 7,
     "metadata": {},
     "output_type": "execute_result"
    },
    {
     "data": {
      "image/png": "[encoded data removed]",
      "text/plain": [
       "<Figure size 432x288 with 1 Axes>"
      ]
     },
     "metadata": {
      "needs_background": "light"
     },
     "output_type": "display_data"
    }
   ],
   "source": [
    "#Checks if your code worked by plotting median age\n",
    "plt.hist(pandas_housing_df['medage'])\n",
    "plt.xlabel('Median Age')\n",
    "plt.ylabel('Number of Houses')\n",
    "plt.title('Histogram of Median Ages in California Houses')"
   ]
  },
  {
   "cell_type": "markdown",
   "metadata": {},
   "source": [
    "## PART B: Basic Spark Machine Learning"
   ]
  },
  {
   "cell_type": "markdown",
   "metadata": {},
   "source": [
    "## (d) First we define a set of feature columns that we would like to use as an input. \n",
    "Right now, lets go with Median Age, Total Bedrooms, Median Income, and Total Rooms"
   ]
  },
  {
   "cell_type": "code",
   "execution_count": 44,
   "metadata": {},
   "outputs": [],
   "source": [
    "feature_cols = ['medage','totbdrms','medinc','totrooms']"
   ]
  },
  {
   "cell_type": "markdown",
   "metadata": {},
   "source": [
    "## (e) Use VectorAssembler to create a column names \"features\" which contains the desired features"
   ]
  },
  {
   "cell_type": "code",
   "execution_count": 45,
   "metadata": {},
   "outputs": [],
   "source": [
    "assembler = VectorAssembler(inputCols=feature_cols, outputCol=\"features\")\n",
    "assembled_df = assembler.transform(housing_df)"
   ]
  },
  {
   "cell_type": "code",
   "execution_count": 46,
   "metadata": {},
   "outputs": [
    {
     "name": "stdout",
     "output_type": "stream",
     "text": [
      "+-------+-----+------+--------+--------+------+--------+------+--------+--------------------------------------+\n",
      "|long   |lat  |medage|totrooms|totbdrms|pop   |houshlds|medinc|medhv   |features                              |\n",
      "+-------+-----+------+--------+--------+------+--------+------+--------+--------------------------------------+\n",
      "|-122.23|37.88|41.0  |880.0   |129.0   |322.0 |126.0   |8.3252|452600.0|[41.0,129.0,8.325200080871582,880.0]  |\n",
      "|-122.22|37.86|21.0  |7099.0  |1106.0  |2401.0|1138.0  |8.3014|358500.0|[21.0,1106.0,8.301400184631348,7099.0]|\n",
      "|-122.24|37.85|52.0  |1467.0  |190.0   |496.0 |177.0   |7.2574|352100.0|[52.0,190.0,7.257400035858154,1467.0] |\n",
      "|-122.25|37.85|52.0  |1274.0  |235.0   |558.0 |219.0   |5.6431|341300.0|[52.0,235.0,5.643099784851074,1274.0] |\n",
      "|-122.25|37.85|52.0  |1627.0  |280.0   |565.0 |259.0   |3.8462|342200.0|[52.0,280.0,3.8461999893188477,1627.0]|\n",
      "|-122.25|37.85|52.0  |919.0   |213.0   |413.0 |193.0   |4.0368|269700.0|[52.0,213.0,4.036799907684326,919.0]  |\n",
      "|-122.25|37.84|52.0  |2535.0  |489.0   |1094.0|514.0   |3.6591|299200.0|[52.0,489.0,3.65910005569458,2535.0]  |\n",
      "|-122.25|37.84|52.0  |3104.0  |687.0   |1157.0|647.0   |3.12  |241400.0|[52.0,687.0,3.119999885559082,3104.0] |\n",
      "|-122.26|37.84|42.0  |2555.0  |665.0   |1206.0|595.0   |2.0804|226700.0|[42.0,665.0,2.080399990081787,2555.0] |\n",
      "|-122.25|37.84|52.0  |3549.0  |707.0   |1551.0|714.0   |3.6912|261100.0|[52.0,707.0,3.691200017929077,3549.0] |\n",
      "+-------+-----+------+--------+--------+------+--------+------+--------+--------------------------------------+\n",
      "only showing top 10 rows\n",
      "\n"
     ]
    }
   ],
   "source": [
    "assembled_df.show(10, truncate=False)"
   ]
  },
  {
   "cell_type": "markdown",
   "metadata": {},
   "source": [
    "## (f) Randomly split the data into 80% train data and 20% testing data"
   ]
  },
  {
   "cell_type": "code",
   "execution_count": 47,
   "metadata": {},
   "outputs": [],
   "source": [
    "train_data, test_data = assembled_df.randomSplit([.8,.2])"
   ]
  },
  {
   "cell_type": "code",
   "execution_count": 48,
   "metadata": {},
   "outputs": [
    {
     "name": "stdout",
     "output_type": "stream",
     "text": [
      "+-------+-----+------+--------+--------+------+--------+------+--------+--------------------+\n",
      "|   long|  lat|medage|totrooms|totbdrms|   pop|houshlds|medinc|   medhv|            features|\n",
      "+-------+-----+------+--------+--------+------+--------+------+--------+--------------------+\n",
      "|-124.35|40.54|  52.0|  1820.0|   300.0| 806.0|   270.0|3.0147| 94600.0|[52.0,300.0,3.014...|\n",
      "|-124.27|40.69|  36.0|  2349.0|   528.0|1194.0|   465.0|2.5179| 79000.0|[36.0,528.0,2.517...|\n",
      "|-124.26|40.58|  52.0|  2217.0|   394.0| 907.0|   369.0|2.3571|111400.0|[52.0,394.0,2.357...|\n",
      "|-124.25|40.28|  32.0|  1430.0|   419.0| 434.0|   187.0|1.9417| 76100.0|[32.0,419.0,1.941...|\n",
      "|-124.23|40.81|  52.0|  1112.0|   209.0| 544.0|   172.0|3.3462| 50800.0|[52.0,209.0,3.346...|\n",
      "|-124.23|41.75|  11.0|  3159.0|   616.0|1343.0|   479.0|2.4805| 73200.0|[11.0,616.0,2.480...|\n",
      "|-124.21|40.75|  32.0|  1218.0|   331.0| 620.0|   268.0|1.6528| 58100.0|[32.0,331.0,1.652...|\n",
      "|-124.21|41.77|  17.0|  3461.0|   722.0|1947.0|   647.0|2.5795| 68400.0|[17.0,722.0,2.579...|\n",
      "|-124.19|40.77|  30.0|  2975.0|   634.0|1367.0|   583.0| 2.442| 69000.0|[30.0,634.0,2.441...|\n",
      "|-124.19|40.78|  37.0|  1371.0|   319.0| 640.0|   260.0|1.8242| 70000.0|[37.0,319.0,1.824...|\n",
      "+-------+-----+------+--------+--------+------+--------+------+--------+--------------------+\n",
      "only showing top 10 rows\n",
      "\n"
     ]
    }
   ],
   "source": [
    "train_data.show(10)"
   ]
  },
  {
   "cell_type": "code",
   "execution_count": 49,
   "metadata": {},
   "outputs": [
    {
     "name": "stdout",
     "output_type": "stream",
     "text": [
      "+-------+-----+------+--------+--------+------+--------+------+--------+--------------------+\n",
      "|   long|  lat|medage|totrooms|totbdrms|   pop|houshlds|medinc|   medhv|            features|\n",
      "+-------+-----+------+--------+--------+------+--------+------+--------+--------------------+\n",
      "| -124.3| 41.8|  19.0|  2672.0|   552.0|1298.0|   478.0|1.9797| 85800.0|[19.0,552.0,1.979...|\n",
      "| -124.3|41.84|  17.0|  2677.0|   531.0|1244.0|   456.0|3.0313|103600.0|[17.0,531.0,3.031...|\n",
      "|-124.23|40.54|  52.0|  2694.0|   453.0|1152.0|   435.0|3.0806|106700.0|[52.0,453.0,3.080...|\n",
      "|-124.22|41.73|  28.0|  3003.0|   699.0|1530.0|   653.0|1.7038| 78300.0|[28.0,699.0,1.703...|\n",
      "|-124.21|41.75|  20.0|  3810.0|   787.0|1993.0|   721.0|2.0074| 66900.0|[20.0,787.0,2.007...|\n",
      "|-124.19|40.73|  21.0|  5694.0|  1056.0|2907.0|   972.0|3.5363| 90100.0|[21.0,1056.0,3.53...|\n",
      "|-124.18|40.79|  40.0|  1398.0|   311.0| 788.0|   279.0|1.4668| 64600.0|[40.0,311.0,1.466...|\n",
      "|-124.17|40.62|  32.0|  1595.0|   309.0| 706.0|   277.0|2.8958| 86400.0|[32.0,309.0,2.895...|\n",
      "|-124.17| 40.8|  52.0|  1557.0|   344.0| 758.0|   319.0|1.8529| 62500.0|[52.0,344.0,1.852...|\n",
      "|-124.17| 40.8|  52.0|  1606.0|   419.0| 891.0|   367.0| 1.585| 75500.0|[52.0,419.0,1.585...|\n",
      "+-------+-----+------+--------+--------+------+--------+------+--------+--------------------+\n",
      "only showing top 10 rows\n",
      "\n"
     ]
    }
   ],
   "source": [
    "test_data.show(10)"
   ]
  },
  {
   "cell_type": "markdown",
   "metadata": {},
   "source": [
    "## (g) Set linearModel equal to the result of fitting the given linear regression on the training data"
   ]
  },
  {
   "cell_type": "code",
   "execution_count": 50,
   "metadata": {},
   "outputs": [],
   "source": [
    "lr = (LinearRegression(featuresCol='features', labelCol=\"medhv\", predictionCol='predmedhv', \n",
    "                               maxIter=10, regParam=0.3, elasticNetParam=0.8, standardization=False))"
   ]
  },
  {
   "cell_type": "code",
   "execution_count": 51,
   "metadata": {},
   "outputs": [],
   "source": [
    "linearModel = lr.fit(train_data)"
   ]
  },
  {
   "cell_type": "markdown",
   "metadata": {},
   "source": [
    "## (h) Use the linearModel to predict on the test_data"
   ]
  },
  {
   "cell_type": "code",
   "execution_count": 52,
   "metadata": {},
   "outputs": [],
   "source": [
    "predictions = linearModel.transform(test_data)"
   ]
  },
  {
   "cell_type": "code",
   "execution_count": 53,
   "metadata": {},
   "outputs": [
    {
     "name": "stdout",
     "output_type": "stream",
     "text": [
      "+-------+-----+------+--------+--------+------+--------+------+--------+--------------------+------------------+\n",
      "|   long|  lat|medage|totrooms|totbdrms|   pop|houshlds|medinc|   medhv|            features|         predmedhv|\n",
      "+-------+-----+------+--------+--------+------+--------+------+--------+--------------------+------------------+\n",
      "| -124.3| 41.8|  19.0|  2672.0|   552.0|1298.0|   478.0|1.9797| 85800.0|[19.0,552.0,1.979...|100510.18644641551|\n",
      "| -124.3|41.84|  17.0|  2677.0|   531.0|1244.0|   456.0|3.0313|103600.0|[17.0,531.0,3.031...| 143136.8331871637|\n",
      "|-124.23|40.54|  52.0|  2694.0|   453.0|1152.0|   435.0|3.0806|106700.0|[52.0,453.0,3.080...|207092.14219764498|\n",
      "|-124.22|41.73|  28.0|  3003.0|   699.0|1530.0|   653.0|1.7038| 78300.0|[28.0,699.0,1.703...|116478.93252905562|\n",
      "|-124.21|41.75|  20.0|  3810.0|   787.0|1993.0|   721.0|2.0074| 66900.0|[20.0,787.0,2.007...| 112862.6051495002|\n",
      "|-124.19|40.73|  21.0|  5694.0|  1056.0|2907.0|   972.0|3.5363| 90100.0|[21.0,1056.0,3.53...|  188470.701086669|\n",
      "|-124.18|40.79|  40.0|  1398.0|   311.0| 788.0|   279.0|1.4668| 64600.0|[40.0,311.0,1.466...|110806.13646232705|\n",
      "|-124.17|40.62|  32.0|  1595.0|   309.0| 706.0|   277.0|2.8958| 86400.0|[32.0,309.0,2.895...|158362.23940723028|\n",
      "|-124.17| 40.8|  52.0|  1557.0|   344.0| 758.0|   319.0|1.8529| 62500.0|[52.0,344.0,1.852...|154027.77432716184|\n",
      "|-124.17| 40.8|  52.0|  1606.0|   419.0| 891.0|   367.0| 1.585| 75500.0|[52.0,419.0,1.585...|  148698.033064914|\n",
      "+-------+-----+------+--------+--------+------+--------+------+--------+--------------------+------------------+\n",
      "only showing top 10 rows\n",
      "\n"
     ]
    }
   ],
   "source": [
    "predictions.show(10)"
   ]
  },
  {
   "cell_type": "markdown",
   "metadata": {},
   "source": [
    "## (i) Print root mean squared error for the linear model\n",
    "\n",
    "If you did everything correctly, the MSE should be around 80,000. "
   ]
  },
  {
   "cell_type": "code",
   "execution_count": 56,
   "metadata": {},
   "outputs": [
    {
     "name": "stdout",
     "output_type": "stream",
     "text": [
      "MSE: 77966.83440225315\n"
     ]
    }
   ],
   "source": [
    "mse = linearModel.summary.rootMeanSquaredError\n",
    "print(\"MSE:\",mse)"
   ]
  },
  {
   "cell_type": "markdown",
   "metadata": {},
   "source": [
    "## (j) Stop Spark"
   ]
  },
  {
   "cell_type": "code",
   "execution_count": null,
   "metadata": {},
   "outputs": [],
   "source": [
    "spark.stop()"
   ]
  },
  {
   "cell_type": "markdown",
   "metadata": {},
   "source": [
    "### CREDITS:\n",
    "THIS NOTEBOOK IS HEAVILY INSPIRED BY THE ONE BY FATMAKURSUN WHICH YOU CAN FIND HERE https://www.kaggle.com/fatmakursun/pyspark-ml-tutorial-for-beginners. SOME BLOCKS OF CODE, FOR EXAMPLE LOADING THE DATASET, ARE TAKEN DIRECTLY FROM IT."
   ]
  }
 ],
 "metadata": {
  "kernelspec": {
   "display_name": "Python 3",
   "language": "python",
   "name": "python3"
  },
  "language_info": {
   "codemirror_mode": {
    "name": "ipython",
    "version": 3
   },
   "file_extension": ".py",
   "mimetype": "text/x-python",
   "name": "python",
   "nbconvert_exporter": "python",
   "pygments_lexer": "ipython3",
   "version": "3.7.1"
  }
 },
 "nbformat": 4,
 "nbformat_minor": 4
}

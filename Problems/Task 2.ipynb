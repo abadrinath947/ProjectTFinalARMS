{
 "cells": [
  {
   "cell_type": "markdown",
   "metadata": {},
   "source": [
    "# Task 2: What's wrong with this model?\n",
    "\n",
    "Investigate what is wrong with this model and why it may perform poorly. Suggest fixes for these (potentially) many issues and implement them. There should be no additional lines needed in the model creation!\n",
    "\n",
    "For this model, we undertake a regression task with images which we will produce a rating for. Assume that the regression task is not atypical in any way and that we wish to use a convolutional neural network since we did not know the mystery function in advance. You may increase the number of epochs to around 20 if needed, but you may not modify the existing X and y arrays or change the number of filters.\n",
    "\n",
    "The goal is to achieve a predictor that achieves a training set MSE of less than 100,000 (i.e. MSE of model predictions vs. y < 100,000).\n",
    "\n",
    "*Hints:*\n",
    "* We're missing a core component of what makes neural networks so powerful as compared to other techniques like linear regression. Compare the convolutional layers of this network with the previous examples.\n",
    "* Examine the data, X and y, to detect any anomalies or otherwise concerning behaviour."
   ]
  },
  {
   "cell_type": "code",
   "execution_count": null,
   "metadata": {},
   "outputs": [],
   "source": [
    "#Import Necessary Libraries\n",
    "import tensorflow as tf\n",
    "import keras\n",
    "import matplotlib.pyplot as plt\n",
    "from keras.models import Sequential\n",
    "from keras.layers import Dense, Conv2D, Dropout, Flatten, Input, MaxPooling2D\n",
    "import numpy as np\n",
    "import pandas as pd\n",
    "import os"
   ]
  },
  {
   "cell_type": "code",
   "execution_count": null,
   "metadata": {},
   "outputs": [],
   "source": [
    "def mystery(X):\n",
    "    return np.mean(X ** 2) - np.min(np.sqrt(X)) \n",
    "\n",
    "# data\n",
    "X = np.random.normal(loc = 10000, size = (1000, 64, 64, 3))\n",
    "y = np.array([mystery(x) for x in X])\n",
    "\n",
    "########## START EDITING ##########\n",
    "\n",
    "# make our model\n",
    "model = Sequential()\n",
    "model.add(Conv2D(filters = 64, kernel_size = (3, 3), padding = 'same', input_shape = (64, 64, 3)))\n",
    "model.add(MaxPooling2D(pool_size = (2, 2)))\n",
    "model.add(Conv2D(filters = 128, kernel_size = (3, 3), padding = 'same'))\n",
    "model.add(MaxPooling2D(pool_size = (2, 2)))\n",
    "model.add(Conv2D(filters = 64, kernel_size = (3, 3), padding = 'same'))\n",
    "model.add(MaxPooling2D(pool_size = (2, 2)))\n",
    "model.add(Flatten())\n",
    "model.add(Dense(units = 1, activation = 'tanh'))\n",
    "\n",
    "model.compile(optimizer = 'Adam', loss = 'mse')\n",
    "model.fit(X, y, epochs = 5, batch_size = 64);"
   ]
  }
 ],
 "metadata": {
  "kernelspec": {
   "display_name": "Python 3",
   "language": "python",
   "name": "python3"
  },
  "language_info": {
   "codemirror_mode": {
    "name": "ipython",
    "version": 3
   },
   "file_extension": ".py",
   "mimetype": "text/x-python",
   "name": "python",
   "nbconvert_exporter": "python",
   "pygments_lexer": "ipython3",
   "version": "3.8.6"
  }
 },
 "nbformat": 4,
 "nbformat_minor": 4
}
